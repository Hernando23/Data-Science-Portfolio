{
 "cells": [
  {
   "cell_type": "markdown",
   "metadata": {},
   "source": [
    "<img src=\"http://imgur.com/1ZcRyrc.png\" style=\"float: left; margin: 15px; height: 80px\">\n",
    "\n",
    "# Project 1\n",
    "\n",
    "### Building \"Pokemon Stay\"\n",
    "\n",
    "---\n",
    "You are an analyst at a \"scrappy\" online gaming company that specializes in remakes of last year's fads.\n",
    "\n",
    "Your boss, who runs the product development team, is convinced that Pokemon Go's fatal flaw was that you had to actually move around outside. She has design mock-ups for a new game called Pokemon Stay: in this version players still need to move, but just from website to website. Pokemon gyms are now popular online destinations, and catching Pokemon in the \"wild\" simply requires browsing the internet for hours in the comfort of your home.\n",
    "\n",
    "She wants you to program a prototype version of the game, and analyze the planned content to help the team calibrate the design."
   ]
  },
  {
   "cell_type": "markdown",
   "metadata": {},
   "source": [
    "#### Package imports\n",
    "\n",
    "The pprint package below is the only package imported here, and it's not even strictly required to do any of the project. Printing python variables and objects with pprint can help to format them in a \"prettier\" way."
   ]
  },
  {
   "cell_type": "code",
   "execution_count": 4,
   "metadata": {
    "collapsed": true
   },
   "outputs": [],
   "source": [
    "from pprint import pprint\n",
    "\n",
    "##add another packages that i use \n",
    "import csv\n",
    "import numpy as np\n",
    "import pandas as pd\n",
    "import re"
   ]
  },
  {
   "cell_type": "markdown",
   "metadata": {},
   "source": [
    "<img src=\"http://imgur.com/l5NasQj.png\" style=\"float: left; margin: 25px 15px 0px 0px; height: 25px\">\n",
    "\n",
    "## 1. Defining a player\n",
    "\n",
    "---\n",
    "\n",
    "The player variables are:\n",
    "\n",
    "    player_id : id code unique to each player (integer)\n",
    "    player_name : entered name of the player (string)\n",
    "    time_played : number of time played the game in minutes (float)\n",
    "    player_pokemon: the player's captured pokemon (dictionary)\n",
    "    gyms_visited: ids of the gyms that a player has visited (list)\n",
    "    \n",
    "Create the components for a player object by defining each of these variables. The dictionary and list variables should just be defined as empty; you can use any (correctly typed) values for the others."
   ]
  },
  {
   "cell_type": "code",
   "execution_count": 5,
   "metadata": {
    "collapsed": true
   },
   "outputs": [],
   "source": [
    "player_id = 1\n",
    "player_name = 'Hernando'\n",
    "time_played = 112.0\n",
    "player_pokemon = {}\n",
    "gyms_visited = ['twitter.com',\n",
    "                 'linkedin.com']"
   ]
  },
  {
   "cell_type": "code",
   "execution_count": 6,
   "metadata": {},
   "outputs": [
    {
     "name": "stdout",
     "output_type": "stream",
     "text": [
      "variable player_id types is:  <type 'int'>\n",
      "variable player_name types is:  <type 'str'>\n",
      "variable time_played types is:  <type 'float'>\n",
      "variable player_pokemon types is:  <type 'dict'>\n",
      "variable gyms_visited types is:  <type 'list'>\n"
     ]
    }
   ],
   "source": [
    "print 'variable player_id types is: ', type(player_id)\n",
    "print 'variable player_name types is: ', type(player_name)\n",
    "print 'variable time_played types is: ', type(time_played)\n",
    "print 'variable player_pokemon types is: ', type(player_pokemon)\n",
    "print 'variable gyms_visited types is: ', type(gyms_visited)"
   ]
  },
  {
   "cell_type": "markdown",
   "metadata": {},
   "source": [
    "<img src=\"http://imgur.com/l5NasQj.png\" style=\"float: left; margin: 25px 15px 0px 0px; height: 25px\">\n",
    "\n",
    "## 2. Defining \"gym\" locations\n",
    "\n",
    "---\n",
    "\n",
    "As the sole programmer, Pokemon Stay will have to start small. To begin, there will be 10 different gym location websites on the internet. The gym locations are:\n",
    "\n",
    "    1. 'reddit.com'\n",
    "    2. 'amazon.com'\n",
    "    3. 'twitter.com'\n",
    "    4. 'linkedin.com'\n",
    "    5. 'ebay.com'\n",
    "    6. 'netflix.com'\n",
    "    7. 'amazon.com'\n",
    "    8. 'stackoverflow.com'\n",
    "    9. 'github.com'\n",
    "    10. 'quora.com'\n",
    "\n",
    "1. Set up a list of all the gym locations. This will be a list of strings.\n",
    "2. Append two of these locations to your player's list of visited gyms.\n",
    "3. Print the list."
   ]
  },
  {
   "cell_type": "code",
   "execution_count": 7,
   "metadata": {
    "collapsed": true
   },
   "outputs": [],
   "source": [
    "#Set up a list of all the gym locations. This will be a list of strings.\n",
    "gym_locations = ['reddit.com', \n",
    "                 'amazon.com',\n",
    "                 'twitter.com',\n",
    "                 'linkedin.com',\n",
    "                 'ebay.com',\n",
    "                 'netflix.com',\n",
    "                 'amazon.com',\n",
    "                 'stackoverflow.com',\n",
    "                 'github.com',\n",
    "                 'quora.com']"
   ]
  },
  {
   "cell_type": "code",
   "execution_count": 8,
   "metadata": {
    "collapsed": true
   },
   "outputs": [],
   "source": [
    "#Append two of these locations to your player's list of visited gyms.\n",
    "for location in gym_locations[8:10]:\n",
    "    gyms_visited.append(location)"
   ]
  },
  {
   "cell_type": "code",
   "execution_count": 9,
   "metadata": {},
   "outputs": [
    {
     "name": "stdout",
     "output_type": "stream",
     "text": [
      "['twitter.com', 'linkedin.com', 'github.com', 'quora.com']\n"
     ]
    }
   ],
   "source": [
    "#Print the list with github.com and quora.com added\n",
    "print(gyms_visited)"
   ]
  },
  {
   "cell_type": "markdown",
   "metadata": {},
   "source": [
    "<img src=\"http://imgur.com/l5NasQj.png\" style=\"float: left; margin: 25px 15px 0px 0px; height: 25px\">\n",
    "\n",
    "## 3. Create a pokedex\n",
    "\n",
    "---\n",
    "\n",
    "We also need to create some pokemon to catch. Each pokemon will be defined by these variables:\n",
    "\n",
    "    pokemon_id : unique identifier for each pokemon (integer)\n",
    "    name : the name of the pokemon (string)\n",
    "    type : the category of pokemon (string)\n",
    "    hp : base hitpoints (integer)\n",
    "    attack : base attack (integer)\n",
    "    defense : base defense (integer)\n",
    "    special_attack : base special attack (integer)\n",
    "    special_defense : base sepecial defense (integer)\n",
    "    speed : base speed (integer)\n",
    "\n",
    "We are only going to create 3 different pokemon with these `pokemon_id` and `pokemon_name` values:\n",
    "\n",
    "    1 : 'charmander'\n",
    "    2 : 'squirtle'\n",
    "    3 : 'bulbasaur'\n",
    "\n",
    "Create a dictionary that will contain the pokemon. The keys of the dictionary will be the `pokemon_id` and the values will themselves dictionaries that contain the other pokemon variables. The structure of the pokedex dictionary will start like so:\n",
    "     \n",
    "     {\n",
    "         1: {\n",
    "                 'name':'charmander',\n",
    "                 'type':'fire',\n",
    "                 ...\n",
    "                 \n",
    "The `type` of charmander, squirtle, and bulbasaur should be `'fire'`, `'water'`, and `'poison'` respectively. The other values are up to you, make them anything you like!\n",
    "\n",
    "Print (or pretty print) the pokedex dictionary with the 3 pokemon."
   ]
  },
  {
   "cell_type": "code",
   "execution_count": 10,
   "metadata": {
    "collapsed": true
   },
   "outputs": [],
   "source": [
    "pokedex = {\n",
    "    1: { 'name': 'charmander',\n",
    "         'type': 'fire',\n",
    "         'hp': 100,\n",
    "         'attack': 300,\n",
    "         'defense' : 100,\n",
    "         'special_attack': 200,\n",
    "         'special_defense': 200,\n",
    "         'speed': 50 \n",
    "       },\n",
    "     2 : {'name': 'squirtle',\n",
    "          'type': 'water',\n",
    "          'hp': 100,\n",
    "          'attack': 200,\n",
    "          'defense' : 200,\n",
    "          'special_attack': 200,\n",
    "          'special_defense': 200,\n",
    "          'speed': 50\n",
    "         },\n",
    "     3 : {'name': 'bulbasaur',\n",
    "          'type' : 'poison',\n",
    "          'hp': 100,\n",
    "          'attack': 150,\n",
    "          'defense' : 300,\n",
    "          'special_attack': 200,\n",
    "          'special_defense': 200,\n",
    "          'speed': 50\n",
    "         }\n",
    "}"
   ]
  },
  {
   "cell_type": "code",
   "execution_count": 11,
   "metadata": {},
   "outputs": [
    {
     "name": "stdout",
     "output_type": "stream",
     "text": [
      "{1: {'attack': 300,\n",
      "     'defense': 100,\n",
      "     'hp': 100,\n",
      "     'name': 'charmander',\n",
      "     'special_attack': 200,\n",
      "     'special_defense': 200,\n",
      "     'speed': 50,\n",
      "     'type': 'fire'},\n",
      " 2: {'attack': 200,\n",
      "     'defense': 200,\n",
      "     'hp': 100,\n",
      "     'name': 'squirtle',\n",
      "     'special_attack': 200,\n",
      "     'special_defense': 200,\n",
      "     'speed': 50,\n",
      "     'type': 'water'},\n",
      " 3: {'attack': 150,\n",
      "     'defense': 300,\n",
      "     'hp': 100,\n",
      "     'name': 'bulbasaur',\n",
      "     'special_attack': 200,\n",
      "     'special_defense': 200,\n",
      "     'speed': 50,\n",
      "     'type': 'poison'}}\n"
     ]
    }
   ],
   "source": [
    "pprint(pokedex)"
   ]
  },
  {
   "cell_type": "markdown",
   "metadata": {},
   "source": [
    "<img src=\"http://imgur.com/l5NasQj.png\" style=\"float: left; margin: 25px 15px 0px 0px; height: 25px\">\n",
    "\n",
    "## 4. Create a data structure for players\n",
    "\n",
    "---\n",
    "\n",
    "### 4.1 \n",
    "\n",
    "In order to maintain a database of multiple players, create a dictionary that keeps track of players indexed by `player_id`. \n",
    "\n",
    "The keys of the dictionary will be `player_id` and values will be dictionaries containing each player's variables (from question 1). \n",
    "\n",
    "Construct the `players` dictionary and insert the player that you defined in question 1, then print `players`."
   ]
  },
  {
   "cell_type": "code",
   "execution_count": 12,
   "metadata": {
    "collapsed": true
   },
   "outputs": [],
   "source": [
    "#Construct the players dictionary,keys of the dictionary will be player_id\n",
    "\n",
    "players = {\n",
    "    player_id: {\n",
    "        'player_id': player_id,\n",
    "        'player_name': player_name,\n",
    "        'time_played': time_played,\n",
    "        'player_pokemon': player_pokemon,\n",
    "        'gyms_visited': gyms_visited\n",
    "    }\n",
    "    \n",
    "}"
   ]
  },
  {
   "cell_type": "code",
   "execution_count": 13,
   "metadata": {},
   "outputs": [
    {
     "name": "stdout",
     "output_type": "stream",
     "text": [
      "{1: {'gyms_visited': ['twitter.com',\n",
      "                      'linkedin.com',\n",
      "                      'github.com',\n",
      "                      'quora.com'],\n",
      "     'player_id': 1,\n",
      "     'player_name': 'Hernando',\n",
      "     'player_pokemon': {},\n",
      "     'time_played': 112.0}}\n"
     ]
    }
   ],
   "source": [
    "pprint(players)"
   ]
  },
  {
   "cell_type": "markdown",
   "metadata": {},
   "source": [
    "---\n",
    "\n",
    "### 4.2\n",
    "\n",
    "Create a new player with `player_id = 2` in the `players` dictionary. Leave the `'player_pokemon'` dictionary empty. Append `'alcatraz'` and `'pacific_beach'` to the `'gyms_visited'` list for player 2.\n",
    "\n",
    "The `'player_name'` and `'time_played'` values are up to you, but must be a string and float, respectively.\n",
    "\n",
    "Remember, the player_id is the key for the player in the players dictionary.\n",
    "\n",
    "Print the `players` dictionary with the new player inserted."
   ]
  },
  {
   "cell_type": "code",
   "execution_count": 14,
   "metadata": {
    "collapsed": true
   },
   "outputs": [],
   "source": [
    "# add player 2 to players dictionary\n",
    "player2_dict = {\n",
    "    2: {\n",
    "        'player_id': 2,\n",
    "        'player_name': 'Joshua',\n",
    "        'time_played': 68.3,\n",
    "        'player_pokemon': {},\n",
    "        'gyms_visited': ['alcatraz', 'pacific_beach']\n",
    "    }\n",
    "    \n",
    "}"
   ]
  },
  {
   "cell_type": "code",
   "execution_count": 15,
   "metadata": {
    "collapsed": true
   },
   "outputs": [],
   "source": [
    "players.update(player2_dict)"
   ]
  },
  {
   "cell_type": "code",
   "execution_count": 16,
   "metadata": {},
   "outputs": [
    {
     "name": "stdout",
     "output_type": "stream",
     "text": [
      "{1: {'gyms_visited': ['twitter.com',\n",
      "                      'linkedin.com',\n",
      "                      'github.com',\n",
      "                      'quora.com'],\n",
      "     'player_id': 1,\n",
      "     'player_name': 'Hernando',\n",
      "     'player_pokemon': {},\n",
      "     'time_played': 112.0},\n",
      " 2: {'gyms_visited': ['alcatraz', 'pacific_beach'],\n",
      "     'player_id': 2,\n",
      "     'player_name': 'Joshua',\n",
      "     'player_pokemon': {},\n",
      "     'time_played': 68.3}}\n"
     ]
    }
   ],
   "source": [
    "pprint(players)"
   ]
  },
  {
   "cell_type": "markdown",
   "metadata": {},
   "source": [
    "<img src=\"http://imgur.com/l5NasQj.png\" style=\"float: left; margin: 25px 15px 0px 0px; height: 25px\">\n",
    "\n",
    "## 5. Add captured pokemon for each player\n",
    "\n",
    "---\n",
    "\n",
    "The `'player_pokemon'` keyed dictionaries for each player keep track of which of the pokemon each player has.\n",
    "\n",
    "The keys of the `'player_pokemon'` dictionaries are the pokemon ids that correspond to the ids in the `pokedex` dictionary you created earlier. The values are integers specifying the stats for the pokemon.\n",
    "\n",
    "Give player 1 a squirtle. Give player 2 charmander and a bulbasaur.\n",
    "\n",
    "Print the players dictionary after adding the pokemon for each player.\n"
   ]
  },
  {
   "cell_type": "code",
   "execution_count": 17,
   "metadata": {},
   "outputs": [
    {
     "name": "stdout",
     "output_type": "stream",
     "text": [
      "{'gyms_visited': ['twitter.com', 'linkedin.com', 'github.com', 'quora.com'],\n",
      " 'player_id': 1,\n",
      " 'player_name': 'Hernando',\n",
      " 'player_pokemon': {2: {'attack': 200,\n",
      "                        'defense': 200,\n",
      "                        'hp': 100,\n",
      "                        'name': 'squirtle',\n",
      "                        'special_attack': 200,\n",
      "                        'special_defense': 200,\n",
      "                        'speed': 50,\n",
      "                        'type': 'water'}},\n",
      " 'time_played': 112.0}\n"
     ]
    },
    {
     "data": {
      "text/plain": [
       "dict"
      ]
     },
     "execution_count": 17,
     "metadata": {},
     "output_type": "execute_result"
    }
   ],
   "source": [
    "#player 1 got squirtle! \n",
    "players[1]['player_pokemon'][2]=pokedex[2]\n",
    "pprint(players[1])\n",
    "type(players[1]['player_pokemon'])"
   ]
  },
  {
   "cell_type": "code",
   "execution_count": 18,
   "metadata": {},
   "outputs": [
    {
     "name": "stdout",
     "output_type": "stream",
     "text": [
      "{'gyms_visited': ['alcatraz', 'pacific_beach'],\n",
      " 'player_id': 2,\n",
      " 'player_name': 'Joshua',\n",
      " 'player_pokemon': {1: {'attack': 300,\n",
      "                        'defense': 100,\n",
      "                        'hp': 100,\n",
      "                        'name': 'charmander',\n",
      "                        'special_attack': 200,\n",
      "                        'special_defense': 200,\n",
      "                        'speed': 50,\n",
      "                        'type': 'fire'},\n",
      "                    3: {'attack': 150,\n",
      "                        'defense': 300,\n",
      "                        'hp': 100,\n",
      "                        'name': 'bulbasaur',\n",
      "                        'special_attack': 200,\n",
      "                        'special_defense': 200,\n",
      "                        'speed': 50,\n",
      "                        'type': 'poison'}},\n",
      " 'time_played': 68.3}\n"
     ]
    },
    {
     "data": {
      "text/plain": [
       "dict"
      ]
     },
     "execution_count": 18,
     "metadata": {},
     "output_type": "execute_result"
    }
   ],
   "source": [
    "#player 2 got charmander & bulbasaur! \n",
    "players[2]['player_pokemon'][1]= pokedex[1]\n",
    "players[2]['player_pokemon'][3]= pokedex[3]\n",
    "\n",
    "pprint(players[2])\n",
    "type(players[2]['player_pokemon'])"
   ]
  },
  {
   "cell_type": "code",
   "execution_count": 19,
   "metadata": {},
   "outputs": [
    {
     "name": "stdout",
     "output_type": "stream",
     "text": [
      "{1: {'attack': 300, 'defense': 100, 'name': 'charmander', 'special_attack': 200, 'speed': 50, 'hp': 100, 'type': 'fire', 'special_defense': 200}}\n",
      "{2: {'attack': 200, 'defense': 200, 'name': 'squirtle', 'special_attack': 200, 'speed': 50, 'hp': 100, 'type': 'water', 'special_defense': 200}}\n",
      "{3: {'attack': 150, 'defense': 300, 'name': 'bulbasaur', 'special_attack': 200, 'speed': 50, 'hp': 100, 'type': 'poison', 'special_defense': 200}}\n"
     ]
    }
   ],
   "source": [
    "#checking pokedex dictionaries\n",
    "for k, v in pokedex.items():\n",
    "    print dict([(k,v)])\n",
    "    \n",
    "    "
   ]
  },
  {
   "cell_type": "markdown",
   "metadata": {},
   "source": [
    "\n",
    "\n",
    "## 6. What gyms have players visited?\n",
    "\n",
    "---\n",
    "<img src=\"http://imgur.com/l5NasQj.png\" style=\"float: left; margin: 25px 15px 0px 0px; height: 25px\">\n",
    "### 6.1\n",
    "\n",
    "Write a for-loop that:\n",
    "\n",
    "1. Iterates through the `pokemon_gyms` list of gym locations you defined before.\n",
    "2. For each gym, iterate through each player in the `players` dictionary with a second, internal for-loop.\n",
    "3. If the player has visited the gym, print out \"[player] has visited [gym location].\", filling in [player] and [gym location] with the current player's name and current gym location."
   ]
  },
  {
   "cell_type": "code",
   "execution_count": 20,
   "metadata": {},
   "outputs": [
    {
     "name": "stdout",
     "output_type": "stream",
     "text": [
      "Hernando has visited twitter.com\n",
      "Hernando has visited linkedin.com\n",
      "Hernando has visited github.com\n",
      "Hernando has visited quora.com\n",
      "there is 20 loops in this function\n"
     ]
    }
   ],
   "source": [
    "count_loop_a= 0\n",
    "for gyms in gym_locations:\n",
    "    for visits in players :\n",
    "        count_loop_a+= 1\n",
    "        if gyms in players[visits]['gyms_visited'] :\n",
    "            print players[visits]['player_name'], 'has visited', gyms\n",
    "            \n",
    "print \"there is\",count_loop_a ,\"loops in this function\""
   ]
  },
  {
   "cell_type": "markdown",
   "metadata": {},
   "source": [
    "<img src=\"http://imgur.com/xDpSobf.png\" style=\"float: left; margin: 25px 15px 0px 0px; height: 25px\">\n",
    "### 6.2\n",
    "\n",
    "How many times did that loop run? If you have N gyms and also N players, how many times would it run as a function of N?\n",
    "\n",
    "Can you think of a more efficient way to accomplish the same thing? \n",
    "\n",
    "(You can write your answer as Markdown text.)\n",
    "### Answer: there are 20 loops in function\n",
    "10 gyms x 2 players = **20** loops"
   ]
  },
  {
   "cell_type": "code",
   "execution_count": 21,
   "metadata": {},
   "outputs": [
    {
     "name": "stdout",
     "output_type": "stream",
     "text": [
      "Hernando has visited twitter.com\n",
      "Hernando has visited linkedin.com\n",
      "Hernando has visited github.com\n",
      "Hernando has visited quora.com\n",
      "there is 6 loops in this function\n"
     ]
    }
   ],
   "source": [
    "#more efficient functions\n",
    "count = 0\n",
    "gym_locations_set = set(gym_locations)\n",
    "for player in players:\n",
    "    for gym_location in players[player]['gyms_visited']:\n",
    "        count+=1\n",
    "        if gym_location in gym_locations_set:\n",
    "            print players[player]['player_name'],\"has visited\",gym_location\n",
    "print \"there is\",count ,\"loops in this function\"\n"
   ]
  },
  {
   "cell_type": "markdown",
   "metadata": {},
   "source": [
    "<img src=\"http://imgur.com/l5NasQj.png\" style=\"float: left; margin: 25px 15px 0px 0px; height: 25px\">\n",
    "\n",
    "## 7. Calculate player \"power\".\n",
    "\n",
    "---\n",
    "\n",
    "Define a function that will calculate a player's \"power\". Player power is defined as the sum of the base statistics all of their pokemon.\n",
    "\n",
    "Your function will:\n",
    "\n",
    "1. Accept the `players` dictionary, `pokedex` dictionary, and a player_id as arguments.\n",
    "2. For the specified player_id, look up that player's pokemon and their level(s).\n",
    "3. Find and aggregate the attack and defense values for each of the player's pokemon from the `pokedex` dictionary.\n",
    "4. Print \"[player name]'s power is [player power].\", where the player power is the sum of the base statistics for all of their pokemon.\n",
    "5. Return the player's power value.\n",
    "\n",
    "Print out the pokemon power for each of your players."
   ]
  },
  {
   "cell_type": "code",
   "execution_count": 22,
   "metadata": {
    "collapsed": true
   },
   "outputs": [],
   "source": [
    "def player_power(dictionary_of_players, pokedex_dictionary, poke_player_id):\n",
    "    the_player = dictionary_of_players[poke_player_id]\n",
    "    their_pokemon = the_player['player_pokemon']\n",
    "    total_power = 0\n",
    "    for poke in their_pokemon.values():\n",
    "        total_power += poke['attack'] + poke['defense']\n",
    "        #print \"Working on\",poke\n",
    "        #print \"Added\",poke['attack'],\"and\", poke['defense'], \"to get \",total_power\n",
    "    #print the_player['player_name']+\"'s power is\",total_power\n",
    "    #print \"%s's power is %d\" % (the_player['player_name'], total_power)\n",
    "    print \"{name}'s power is {power}\".format(name= the_player['player_name'],\n",
    "                                             power=total_power)\n",
    "    return total_power\n"
   ]
  },
  {
   "cell_type": "code",
   "execution_count": 23,
   "metadata": {},
   "outputs": [
    {
     "data": {
      "text/plain": [
       "[{'attack': 200,\n",
       "  'defense': 200,\n",
       "  'hp': 100,\n",
       "  'name': 'squirtle',\n",
       "  'special_attack': 200,\n",
       "  'special_defense': 200,\n",
       "  'speed': 50,\n",
       "  'type': 'water'}]"
      ]
     },
     "execution_count": 23,
     "metadata": {},
     "output_type": "execute_result"
    }
   ],
   "source": [
    "players[1]['player_pokemon'].values()"
   ]
  },
  {
   "cell_type": "code",
   "execution_count": 24,
   "metadata": {
    "scrolled": true
   },
   "outputs": [
    {
     "name": "stdout",
     "output_type": "stream",
     "text": [
      "Joshua's power is 850\n"
     ]
    },
    {
     "data": {
      "text/plain": [
       "850"
      ]
     },
     "execution_count": 24,
     "metadata": {},
     "output_type": "execute_result"
    }
   ],
   "source": [
    "player_power(players,pokedex,2)"
   ]
  },
  {
   "cell_type": "code",
   "execution_count": 25,
   "metadata": {},
   "outputs": [
    {
     "name": "stdout",
     "output_type": "stream",
     "text": [
      "Hernando's power is 400\n"
     ]
    },
    {
     "data": {
      "text/plain": [
       "400"
      ]
     },
     "execution_count": 25,
     "metadata": {},
     "output_type": "execute_result"
    }
   ],
   "source": [
    "player_power(players,pokedex,1)"
   ]
  },
  {
   "cell_type": "markdown",
   "metadata": {
    "collapsed": true
   },
   "source": [
    "<img src=\"http://imgur.com/l5NasQj.png\" style=\"float: left; margin: 25px 15px 0px 0px; height: 25px\">\n",
    "\n",
    "## 8. Load a pokedex file containing all the pokemon\n",
    "\n",
    "---\n",
    "\n",
    "### 8.1\n",
    "\n",
    "While you were putting together the prototype code, your colleagues were preparing a dataset of Pokemon and their attributes. (This was a rush job, so they may have picked some crazy values for some...)\n",
    "\n",
    "The code below loads information from a comma separated value (csv) file. You need to parse this string into a more useable format. The format of the string is:\n",
    "\n",
    "- Rows are separated by newline characters: \\n\n",
    "- Columns are separated by commas: ,\n",
    "- All cells in the csv are double quoted. Ex: \"PokedexNumber\" is the first cell of the first row.\n",
    "\n",
    "\n",
    "Using for-loops, create a list of lists where each list within the overall list is a row of the csv/matrix, and each element in that list is a cell in that row. Additional criteria:\n",
    "\n",
    "1. Quotes are removed from each cell item.\n",
    "2. Numeric column values are converted to floats.\n",
    "3. There are some cells that are empty and have no information. For these cells put a -1 value in place.\n",
    "\n",
    "Your end result is effectively a matrix. Each list in the outer list is a row, and the *j*th elements of list together form the *j*th column, which represents a data attribute. The first three lists in your pokedex list should look like this:\n",
    "\n",
    "    ['PokedexNumber', 'Name', 'Type', 'Total', 'HP', 'Attack', 'Defense', 'SpecialAttack', 'SpecialDefense', 'Speed']\n",
    "    [1.0, 'Bulbasaur', 'GrassPoison', 318.0, 45.0, 49.0, 49.0, 65.0, 65.0, 45.0]\n",
    "    [2.0, 'Ivysaur', 'GrassPoison', 405.0, 60.0, 62.0, 63.0, 80.0, 80.0, 60.0]"
   ]
  },
  {
   "cell_type": "code",
   "execution_count": 31,
   "metadata": {},
   "outputs": [],
   "source": [
    "# Code to read in pokedex info\n",
    "raw_pd = ''\n",
    "pokedex_file = 'pokedex_basic.csv'\n",
    "with open(pokedex_file, 'r') as f:\n",
    "    raw_pd = f.read()\n",
    "    \n",
    "# the pokedex string is assigned to the raw_pd variable"
   ]
  },
  {
   "cell_type": "code",
   "execution_count": 32,
   "metadata": {},
   "outputs": [
    {
     "name": "stdout",
     "output_type": "stream",
     "text": [
      "[['PokedexNumber',\n",
      "  'Name',\n",
      "  'Type',\n",
      "  'Total',\n",
      "  'HP',\n",
      "  'Attack',\n",
      "  'Defense',\n",
      "  'SpecialAttack',\n",
      "  'SpecialDefense',\n",
      "  'Speed'],\n",
      " [1.0, 'Bulbasaur', 'GrassPoison', 318.0, 45.0, 49.0, 49.0, 65.0, 65.0, 45.0],\n",
      " [2.0, 'Ivysaur', 'GrassPoison', 405.0, 60.0, 62.0, 63.0, 80.0, 80.0, 60.0]]\n"
     ]
    }
   ],
   "source": [
    "list_of_lists = []\n",
    "\n",
    "lines = raw_pd.split(\"\\n\")\n",
    "for line in lines:\n",
    "    split_into_mini_list = line.split(',')\n",
    "    updated_list = []\n",
    "    for element in split_into_mini_list:\n",
    "        element = re.sub('[\"!@#$\"]', '', element)\n",
    "        if element.isdigit():\n",
    "            n = float(element)\n",
    "            updated_list.append(n)\n",
    "        else:\n",
    "            updated_list.append(element)\n",
    "    list_of_lists.append(updated_list)\n",
    "\n",
    "pprint(list_of_lists[0:3])"
   ]
  },
  {
   "cell_type": "markdown",
   "metadata": {},
   "source": [
    "## ALTERNATIVE ANSWER USING PANDAS FUNCTION (8.1)\n",
    "1. create dataframe\n",
    "2. convert numeric column to floats\n",
    "3. fill empty cells into (-1)\n",
    "4. remove duplicates\n",
    "5. Assign pokedex numberas index"
   ]
  },
  {
   "cell_type": "code",
   "execution_count": 33,
   "metadata": {},
   "outputs": [
    {
     "data": {
      "text/html": [
       "<div>\n",
       "<style>\n",
       "    .dataframe thead tr:only-child th {\n",
       "        text-align: right;\n",
       "    }\n",
       "\n",
       "    .dataframe thead th {\n",
       "        text-align: left;\n",
       "    }\n",
       "\n",
       "    .dataframe tbody tr th {\n",
       "        vertical-align: top;\n",
       "    }\n",
       "</style>\n",
       "<table border=\"1\" class=\"dataframe\">\n",
       "  <thead>\n",
       "    <tr style=\"text-align: right;\">\n",
       "      <th></th>\n",
       "      <th>PokedexNumber</th>\n",
       "      <th>Name</th>\n",
       "      <th>Type</th>\n",
       "      <th>Total</th>\n",
       "      <th>HP</th>\n",
       "      <th>Attack</th>\n",
       "      <th>Defense</th>\n",
       "      <th>SpecialAttack</th>\n",
       "      <th>SpecialDefense</th>\n",
       "      <th>Speed</th>\n",
       "    </tr>\n",
       "  </thead>\n",
       "  <tbody>\n",
       "    <tr>\n",
       "      <th>0</th>\n",
       "      <td>1</td>\n",
       "      <td>Bulbasaur</td>\n",
       "      <td>GrassPoison</td>\n",
       "      <td>318</td>\n",
       "      <td>45</td>\n",
       "      <td>49</td>\n",
       "      <td>49</td>\n",
       "      <td>65</td>\n",
       "      <td>65</td>\n",
       "      <td>45</td>\n",
       "    </tr>\n",
       "    <tr>\n",
       "      <th>1</th>\n",
       "      <td>2</td>\n",
       "      <td>Ivysaur</td>\n",
       "      <td>GrassPoison</td>\n",
       "      <td>405</td>\n",
       "      <td>60</td>\n",
       "      <td>62</td>\n",
       "      <td>63</td>\n",
       "      <td>80</td>\n",
       "      <td>80</td>\n",
       "      <td>60</td>\n",
       "    </tr>\n",
       "    <tr>\n",
       "      <th>2</th>\n",
       "      <td>3</td>\n",
       "      <td>Venusaur</td>\n",
       "      <td>GrassPoison</td>\n",
       "      <td>525</td>\n",
       "      <td>80</td>\n",
       "      <td>82</td>\n",
       "      <td>83</td>\n",
       "      <td>100</td>\n",
       "      <td>100</td>\n",
       "      <td>80</td>\n",
       "    </tr>\n",
       "    <tr>\n",
       "      <th>3</th>\n",
       "      <td>3</td>\n",
       "      <td>VenusaurMega Venusaur</td>\n",
       "      <td>GrassPoison</td>\n",
       "      <td>625</td>\n",
       "      <td>80</td>\n",
       "      <td>100</td>\n",
       "      <td>123</td>\n",
       "      <td>122</td>\n",
       "      <td>120</td>\n",
       "      <td>80</td>\n",
       "    </tr>\n",
       "    <tr>\n",
       "      <th>4</th>\n",
       "      <td>4</td>\n",
       "      <td>Charmander</td>\n",
       "      <td>Fire</td>\n",
       "      <td>309</td>\n",
       "      <td>39</td>\n",
       "      <td>52</td>\n",
       "      <td>43</td>\n",
       "      <td>60</td>\n",
       "      <td>50</td>\n",
       "      <td>65</td>\n",
       "    </tr>\n",
       "    <tr>\n",
       "      <th>5</th>\n",
       "      <td>5</td>\n",
       "      <td>Charmeleon</td>\n",
       "      <td>Fire</td>\n",
       "      <td>405</td>\n",
       "      <td>58</td>\n",
       "      <td>64</td>\n",
       "      <td>58</td>\n",
       "      <td>80</td>\n",
       "      <td>65</td>\n",
       "      <td>80</td>\n",
       "    </tr>\n",
       "    <tr>\n",
       "      <th>6</th>\n",
       "      <td>6</td>\n",
       "      <td>Charizard</td>\n",
       "      <td>FireFlying</td>\n",
       "      <td>534</td>\n",
       "      <td>78</td>\n",
       "      <td>84</td>\n",
       "      <td>78</td>\n",
       "      <td>109</td>\n",
       "      <td>85</td>\n",
       "      <td>100</td>\n",
       "    </tr>\n",
       "    <tr>\n",
       "      <th>7</th>\n",
       "      <td>6</td>\n",
       "      <td>CharizardMega Charizard X</td>\n",
       "      <td>FireDragon</td>\n",
       "      <td>634</td>\n",
       "      <td>78</td>\n",
       "      <td>130</td>\n",
       "      <td>111</td>\n",
       "      <td>130</td>\n",
       "      <td>85</td>\n",
       "      <td>100</td>\n",
       "    </tr>\n",
       "    <tr>\n",
       "      <th>8</th>\n",
       "      <td>6</td>\n",
       "      <td>CharizardMega Charizard Y</td>\n",
       "      <td>FireFlying</td>\n",
       "      <td>634</td>\n",
       "      <td>78</td>\n",
       "      <td>104</td>\n",
       "      <td>78</td>\n",
       "      <td>159</td>\n",
       "      <td>115</td>\n",
       "      <td>100</td>\n",
       "    </tr>\n",
       "    <tr>\n",
       "      <th>9</th>\n",
       "      <td>7</td>\n",
       "      <td>Squirtle</td>\n",
       "      <td>Water</td>\n",
       "      <td>314</td>\n",
       "      <td>44</td>\n",
       "      <td>48</td>\n",
       "      <td>65</td>\n",
       "      <td>50</td>\n",
       "      <td>64</td>\n",
       "      <td>43</td>\n",
       "    </tr>\n",
       "    <tr>\n",
       "      <th>10</th>\n",
       "      <td>8</td>\n",
       "      <td>Wartortle</td>\n",
       "      <td>Water</td>\n",
       "      <td>405</td>\n",
       "      <td>59</td>\n",
       "      <td>63</td>\n",
       "      <td>80</td>\n",
       "      <td>65</td>\n",
       "      <td>80</td>\n",
       "      <td>58</td>\n",
       "    </tr>\n",
       "    <tr>\n",
       "      <th>11</th>\n",
       "      <td>9</td>\n",
       "      <td>Blastoise</td>\n",
       "      <td>Water</td>\n",
       "      <td>530</td>\n",
       "      <td>79</td>\n",
       "      <td>83</td>\n",
       "      <td>100</td>\n",
       "      <td>85</td>\n",
       "      <td>105</td>\n",
       "      <td>78</td>\n",
       "    </tr>\n",
       "  </tbody>\n",
       "</table>\n",
       "</div>"
      ],
      "text/plain": [
       "    PokedexNumber                       Name         Type  Total  HP  Attack  \\\n",
       "0               1                  Bulbasaur  GrassPoison    318  45      49   \n",
       "1               2                    Ivysaur  GrassPoison    405  60      62   \n",
       "2               3                   Venusaur  GrassPoison    525  80      82   \n",
       "3               3      VenusaurMega Venusaur  GrassPoison    625  80     100   \n",
       "4               4                 Charmander         Fire    309  39      52   \n",
       "5               5                 Charmeleon         Fire    405  58      64   \n",
       "6               6                  Charizard   FireFlying    534  78      84   \n",
       "7               6  CharizardMega Charizard X   FireDragon    634  78     130   \n",
       "8               6  CharizardMega Charizard Y   FireFlying    634  78     104   \n",
       "9               7                   Squirtle        Water    314  44      48   \n",
       "10              8                  Wartortle        Water    405  59      63   \n",
       "11              9                  Blastoise        Water    530  79      83   \n",
       "\n",
       "    Defense  SpecialAttack  SpecialDefense  Speed  \n",
       "0        49             65              65     45  \n",
       "1        63             80              80     60  \n",
       "2        83            100             100     80  \n",
       "3       123            122             120     80  \n",
       "4        43             60              50     65  \n",
       "5        58             80              65     80  \n",
       "6        78            109              85    100  \n",
       "7       111            130              85    100  \n",
       "8        78            159             115    100  \n",
       "9        65             50              64     43  \n",
       "10       80             65              80     58  \n",
       "11      100             85             105     78  "
      ]
     },
     "execution_count": 33,
     "metadata": {},
     "output_type": "execute_result"
    }
   ],
   "source": [
    "import pandas as pd\n",
    "pokedex_file = pd.read_csv('pokedex_basic.csv')\n",
    "pokedex_file.head(12)"
   ]
  },
  {
   "cell_type": "code",
   "execution_count": 34,
   "metadata": {},
   "outputs": [
    {
     "name": "stdout",
     "output_type": "stream",
     "text": [
      "<class 'pandas.core.frame.DataFrame'>\n",
      "RangeIndex: 800 entries, 0 to 799\n",
      "Data columns (total 10 columns):\n",
      "PokedexNumber     800 non-null int64\n",
      "Name              800 non-null object\n",
      "Type              800 non-null object\n",
      "Total             800 non-null int64\n",
      "HP                800 non-null int64\n",
      "Attack            800 non-null int64\n",
      "Defense           800 non-null int64\n",
      "SpecialAttack     800 non-null int64\n",
      "SpecialDefense    800 non-null int64\n",
      "Speed             800 non-null int64\n",
      "dtypes: int64(8), object(2)\n",
      "memory usage: 62.6+ KB\n"
     ]
    }
   ],
   "source": [
    "pokedex_file.info()"
   ]
  },
  {
   "cell_type": "code",
   "execution_count": null,
   "metadata": {
    "collapsed": true
   },
   "outputs": [],
   "source": [
    "#convert integers to float\n",
    "#fill NA with -1\n",
    "pokedex_file['Total'] = pd.to_numeric(pokedex_file['Total'], errors='coerce', downcast='float').fillna(-1)\n",
    "pokedex_file['HP'] = pd.to_numeric(pokedex_file['HP'], errors='coerce', downcast='float').fillna(-1)\n",
    "pokedex_file['Attack'] = pd.to_numeric(pokedex_file['Attack'], errors='coerce', downcast='float').fillna(-1)\n",
    "pokedex_file['Defense'] = pd.to_numeric(pokedex_file['Defense'], errors='coerce', downcast='float').fillna(-1)\n",
    "pokedex_file['SpecialAttack'] = pd.to_numeric(pokedex_file['SpecialAttack'], errors='coerce', downcast='float').fillna(-1)\n",
    "pokedex_file['SpecialDefense'] = pd.to_numeric(pokedex_file['SpecialDefense'], errors='coerce', downcast='float').fillna(-1)\n",
    "pokedex_file['Speed'] = pd.to_numeric(pokedex_file['Speed'], errors='coerce', downcast='float').fillna(-1)"
   ]
  },
  {
   "cell_type": "code",
   "execution_count": null,
   "metadata": {},
   "outputs": [],
   "source": [
    "# Check whether variables already turned into floats32\n",
    "pokedex_file.info()"
   ]
  },
  {
   "cell_type": "code",
   "execution_count": null,
   "metadata": {},
   "outputs": [],
   "source": [
    "#find duplicates\n",
    "duplicates = pokedex_file[pokedex_file.PokedexNumber.duplicated()]\n",
    "duplicates.head(10)"
   ]
  },
  {
   "cell_type": "code",
   "execution_count": null,
   "metadata": {},
   "outputs": [],
   "source": [
    "cleaned_pokedex_file = pokedex_file.drop_duplicates(subset='PokedexNumber', keep='first', inplace=False)\n",
    "cleaned_pokedex_file.head(20)"
   ]
  },
  {
   "cell_type": "code",
   "execution_count": null,
   "metadata": {},
   "outputs": [],
   "source": [
    "#change index into pokemon index\n",
    "cleaned_pokedex_file['MyNewIndex'] = cleaned_pokedex_file.PokedexNumber\n",
    "cleaned_pokedex_file.set_index('MyNewIndex', inplace=True)\n",
    "#Cleaned up dataset\n",
    "cleaned_pokedex_file"
   ]
  },
  {
   "cell_type": "markdown",
   "metadata": {},
   "source": [
    "<img src=\"http://imgur.com/xDpSobf.png\" style=\"float: left; margin: 25px 15px 0px 0px; height: 25px\">\n",
    "\n",
    "### 8.2 Parse the raw pokedex with list comprehensions\n",
    "\n",
    "---\n",
    "\n",
    "Perform the same parsing as above, but **using only a single list comprehension** instead of for loops. You may have nested list comprehensions within the main list comprehension! The output should be exactly the same."
   ]
  },
  {
   "cell_type": "code",
   "execution_count": null,
   "metadata": {},
   "outputs": [],
   "source": [
    "[row for row in list_of_lists[0:8]]"
   ]
  },
  {
   "cell_type": "markdown",
   "metadata": {},
   "source": [
    "<img src=\"http://imgur.com/l5NasQj.png\" style=\"float: left; margin: 25px 15px 0px 0px; height: 25px\">\n",
    "\n",
    "## 9. Write a function to generate the full pokedex\n",
    "\n",
    "---\n",
    "\n",
    "Write a function that recreates the pokedex you made before, but with the data read in from the full pokemon file. The `PokedexNumber` should be used as the `pokemon_id` key values for the dictionary of pokemon.\n",
    "\n",
    "Your function should:\n",
    "\n",
    "1. Take the parsed pokedex information you created above as an argument.\n",
    "2. Return a dictionary in the same format as your original pokedex you created before containing the information from the parsed full pokedex file.\n",
    "\n",
    "To test the function, print out the pokemon with id = 100."
   ]
  },
  {
   "cell_type": "code",
   "execution_count": null,
   "metadata": {},
   "outputs": [],
   "source": [
    "full_pokedex = pd.read_csv('pokedex_basic.csv')\n",
    "full_pokedex['pokemon_id'] = full_pokedex.PokedexNumber\n",
    "full_pokedex.set_index('pokemon_id', inplace=True)\n",
    "full_pokedex = full_pokedex.T.to_dict()\n",
    "pprint (full_pokedex[100])"
   ]
  },
  {
   "cell_type": "code",
   "execution_count": null,
   "metadata": {},
   "outputs": [],
   "source": [
    "# ALTERNATIVE\n",
    "def parse_file(filename):\n",
    "    raw_pd = ''\n",
    "    pokedex_file = filename\n",
    "    with open(pokedex_file, 'r') as f:\n",
    "        raw_pd = f.read()\n",
    "    list_of_lists = []\n",
    "    lines = raw_pd.split(\"\\n\")\n",
    "    for line in lines:\n",
    "        split_into_mini_list = line.split(',')\n",
    "        updated_list = []\n",
    "        for element in split_into_mini_list:\n",
    "            element = re.sub('[\"!@#$\"]', '', element)\n",
    "            if element.isdigit():\n",
    "                n = float(element)\n",
    "                updated_list.append(n)\n",
    "            else:\n",
    "                updated_list.append(element)\n",
    "        list_of_lists.append(updated_list)\n",
    "        df = pd.DataFrame(list_of_lists)\n",
    "        new_header = df.iloc[0] #grab the first row for the header\n",
    "        df = df[1:] #take the data less the header row\n",
    "        df.columns = new_header #set the header row as the df header\n",
    "#        df = df.rename(columns={'PokedexNumber': 'pokemon_id', 'Type': 'type', 'HP': 'hp', 'SpecialAttack': 'special_attack', 'SpecialDefense': 'special_defense', 'Speed': 'speed'})\n",
    "    return df\n",
    "\n",
    "pokedex = parse_file('pokedex_basic.csv')\n",
    "pokedex.set_index(\"PokedexNumber\", drop=True, inplace=True)\n",
    "dictionary = pokedex.to_dict(orient=\"index\")\n",
    "pprint(dictionary[100])"
   ]
  },
  {
   "cell_type": "markdown",
   "metadata": {
    "collapsed": true
   },
   "source": [
    "\n",
    "## 9. Descriptive statistics on the prototype pokedex\n",
    "\n",
    "<img src=\"http://imgur.com/l5NasQj.png\" style=\"float: left; margin: 25px 15px 0px 0px; height: 25px\">\n",
    "### 9.1\n",
    "\n",
    "What is the population mean and standard deviation of the \"Total\" attribute for all characters in the Pokedex?\n",
    "\n"
   ]
  },
  {
   "cell_type": "code",
   "execution_count": null,
   "metadata": {},
   "outputs": [],
   "source": [
    "mean_poke = np.mean(cleaned_pokedex_file['Total'])\n",
    "std_poke = np.std(cleaned_pokedex_file['Total'])\n",
    "print ('population mean of pokedex = ' + str(mean_poke))\n",
    "print ('population std.dev of pokedex = ' + str(std_poke))"
   ]
  },
  {
   "cell_type": "markdown",
   "metadata": {},
   "source": [
    "<img src=\"http://imgur.com/l5NasQj.png\" style=\"float: left; margin: 25px 15px 0px 0px; height: 25px\">\n",
    "### 9.2\n",
    "\n",
    "The game is no fun if the characters are wildly unbalanced! Are any characters \"overpowered\", which we'll define as having a \"Total\" more than three standard deviations from the population mean?"
   ]
  },
  {
   "cell_type": "code",
   "execution_count": null,
   "metadata": {
    "scrolled": true
   },
   "outputs": [],
   "source": [
    "threshold = cleaned_pokedex_file.Total.mean() + 3 * cleaned_pokedex_file.Total.std()\n",
    "pokedex_file[pokedex_file.Total > threshold]"
   ]
  },
  {
   "cell_type": "markdown",
   "metadata": {},
   "source": [
    "<img src=\"http://imgur.com/xDpSobf.png\" style=\"float: left; margin: 25px 15px 0px 0px; height: 25px\">\n",
    "\n",
    "## 10. Calibrate the frequency of Pokemon\n",
    "\n",
    "The design team wants you to make the powerful Pokemon rare, and the weaklings more common. How would you set the probability $p_i$ of finding Pokemon *i* each time a player visits a gym?\n",
    "\n",
    "Write a function that takes in a Pokedex number and returns a value $p_i$ for that character.\n",
    "\n",
    "Hint: there are many ways you could do this. What do _you_ think makes sense? Start with simplifying assumptions: for example, you could assume that the probabilities of encountering any two Pokemon on one visit to a gym are independent of each other."
   ]
  },
  {
   "cell_type": "code",
   "execution_count": null,
   "metadata": {},
   "outputs": [],
   "source": [
    "pokedex_file['InverseTotal'] = 1.0 / pokedex_file.Total\n",
    "inverse_sum = pokedex_file.InverseTotal.sum()\n",
    "pokedex_file['probability'] =(pokedex_file.InverseTotal / inverse_sum)\n",
    "pokedex_file"
   ]
  },
  {
   "cell_type": "code",
   "execution_count": null,
   "metadata": {},
   "outputs": [],
   "source": [
    "pokedex_file.head(20)"
   ]
  },
  {
   "cell_type": "markdown",
   "metadata": {},
   "source": [
    "<img src=\"http://i.imgur.com/GCAf1UX.png\" style=\"float: left; margin: 25px 15px 0px 0px; height: 25px\">\n",
    "\n",
    "## 10. Write a function to generate a \"filtered\" pokedex\n",
    "---\n",
    "Your function should:\n",
    "1. Take the parsed pokedex information you created above as an argument.\n",
    "1. Take a dictionary as a parameter with keys matching the features of the Pokedex, filtering by exact match for string type values, and/or filter continuous variables specified value that is greater than or equal to the dictionary key parameter.\n",
    "1. Return multiple elements from the Pokedex\n",
    "\n",
    "Example:\n",
    "\n",
    "```python\n",
    "\n",
    "# Only filter based on parameters passed\n",
    "filter_options = {\n",
    "    'Attack':   25,\n",
    "    'Defense':  30,\n",
    "    'Type':     'Electric'\n",
    "}\n",
    "\n",
    "# Return records with attack >= 24, defense >= 30, and type == \"Electric\"\n",
    "# Also anticipate that other paramters can also be passed such as \"SpecialAttack\", \"Speed\", etc.\n",
    "filtered_pokedex(pokedex_data, filter=filter_options)\n",
    "\n",
    "# Example output:\n",
    "# [{'Attack': 30.0,\n",
    "#  'Defense': 50.0,\n",
    "#  'HP': 40.0,\n",
    "#  'Name': 'Voltorb',\n",
    "#  'SpecialAttack': 55.0,\n",
    "#  'SpecialDefense': 55.0,\n",
    "#  'Speed': 100.0,\n",
    "#  'Total': 330.0,\n",
    "#  'Type': 'Electric'},\n",
    "#  {'Attack': 30.0,\n",
    "#  'Defense': 33.0,\n",
    "#  'HP': 32.0,\n",
    "#  'Name': 'Pikachu',\n",
    "#  'SpecialAttack': 55.0,\n",
    "#  'SpecialDefense': 55.0,\n",
    "#  'Speed': 100.0,\n",
    "#  'Total': 330.0,\n",
    "#  'Type': 'Electric'},\n",
    "#  ... etc\n",
    "#  ]\n",
    "\n",
    "```\n",
    "\n"
   ]
  },
  {
   "cell_type": "code",
   "execution_count": null,
   "metadata": {},
   "outputs": [],
   "source": [
    "def pokedex_filter(pokedex, filter):\n",
    "    answer = []\n",
    "    for pokemon in pokedex.values():\n",
    "        display = True\n",
    "        for filter_key in filter:\n",
    "            if type(filter[filter_key]) == type(''):\n",
    "                if pokemon[filter_key] != filter[filter_key]:\n",
    "                    display = False\n",
    "                    break\n",
    "            else:\n",
    "                if pokemon[filter_key] < filter[filter_key]:\n",
    "                    display = False\n",
    "                    break                   \n",
    "        if display:\n",
    "            answer.append(pokemon)\n",
    "    return answer\n",
    "                \n",
    "filter_options = {\n",
    "    'Attack':   25,\n",
    "    'Defense':  30,\n",
    "    'Type':     'Electric'\n",
    "}\n",
    "pokedex_filter(full_pokedex, filter_options)"
   ]
  },
  {
   "cell_type": "markdown",
   "metadata": {
    "collapsed": true
   },
   "source": [
    "## Done, Thank you!"
   ]
  }
 ],
 "metadata": {
  "anaconda-cloud": {},
  "kernelspec": {
   "display_name": "Python 2",
   "language": "python",
   "name": "python2"
  },
  "language_info": {
   "codemirror_mode": {
    "name": "ipython",
    "version": 2
   },
   "file_extension": ".py",
   "mimetype": "text/x-python",
   "name": "python",
   "nbconvert_exporter": "python",
   "pygments_lexer": "ipython2",
   "version": "2.7.13"
  }
 },
 "nbformat": 4,
 "nbformat_minor": 1
}
